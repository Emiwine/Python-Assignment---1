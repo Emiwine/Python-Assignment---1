{
 "cells": [
  {
   "cell_type": "markdown",
   "id": "e9b9377c-25ca-472f-a4f1-21d333c99567",
   "metadata": {},
   "source": [
    "Q1. Create one variable containing following type of data:\n",
    "(i) string\n",
    "(ii) list\n",
    "(iii) float\n",
    "(iv) tuple"
   ]
  },
  {
   "cell_type": "code",
   "execution_count": 4,
   "id": "b96c6e00-74bc-4571-9a87-ac98e5b65a14",
   "metadata": {},
   "outputs": [
    {
     "name": "stdout",
     "output_type": "stream",
     "text": [
      "Piyush [1, 2, 3, 4, 5, 'prashant', 25.3, True] 35.64 (10, 20, 30, 40)\n"
     ]
    }
   ],
   "source": [
    "str = \"Piyush\"\n",
    "l = [1,2,3,4,5,\"prashant\", 25.3 , True]\n",
    "float = 35.64\n",
    "tuple = (10,20,30,40)\n",
    "print(str , l , float , tuple )"
   ]
  },
  {
   "cell_type": "markdown",
   "id": "52470712-1e19-4b74-ba98-2400e7de9cfa",
   "metadata": {},
   "source": [
    "Q2. Given are some following variables containing data:\n",
    "(i) var1 = ‘ ‘\n",
    "(ii) var2 = ‘[ DS , ML , Python]’\n",
    "(iii) var3 = [ ‘DS’ , ’ML’ , ‘Python’ ]\n",
    "(iv) var4 = 1.\n",
    "What will be the data type of the above given variable."
   ]
  },
  {
   "cell_type": "code",
   "execution_count": 6,
   "id": "b73577bd-8d48-4723-ae94-fdd7e677edf7",
   "metadata": {
    "scrolled": true
   },
   "outputs": [
    {
     "name": "stdout",
     "output_type": "stream",
     "text": [
      "<class 'str'>\n",
      "<class 'str'>\n",
      "<class 'list'>\n",
      "<class 'int'>\n"
     ]
    }
   ],
   "source": [
    "var1 = ''\n",
    "var2 = '[ DS , ML , Python]'\n",
    "var3 = [ 'DS' , 'ML' , 'Python' ]\n",
    "var4 = 1\n",
    "print(type(var1))\n",
    "print(type(var2))\n",
    "print(type(var3))\n",
    "print(type(var4))\n",
    "\n"
   ]
  },
  {
   "cell_type": "markdown",
   "id": "ef8af230-85e1-450b-9eb0-e7d21ba76ff4",
   "metadata": {},
   "source": [
    "Q3. Q3. Explain the use of the following operators using an example:\n",
    "(i) /\n",
    "(ii) %\n",
    "(iii) //\n",
    "(iv) **"
   ]
  },
  {
   "cell_type": "code",
   "execution_count": null,
   "id": "e3139d2b-3cc8-42f4-82d3-a465ffa27cba",
   "metadata": {},
   "outputs": [],
   "source": [
    "a = 12\n",
    "b = 6\n",
    "print(a/b)\n",
    "print(a%b)\n",
    "print(a//b)\n",
    "print(a**b)\n"
   ]
  },
  {
   "cell_type": "markdown",
   "id": "9b4fb025-7d5f-4474-930b-58de2b767564",
   "metadata": {},
   "source": [
    "Q4. Create a list of length 10 of your choice containing multiple types of data. Using for loop print the\n",
    "element and its data type."
   ]
  },
  {
   "cell_type": "code",
   "execution_count": 1,
   "id": "252e4ba9-d2db-4206-ba3a-4287d99534eb",
   "metadata": {},
   "outputs": [
    {
     "name": "stdout",
     "output_type": "stream",
     "text": [
      "<class 'int'>\n",
      "<class 'int'>\n",
      "<class 'int'>\n",
      "<class 'int'>\n",
      "<class 'int'>\n",
      "<class 'str'>\n",
      "<class 'float'>\n",
      "<class 'bool'>\n",
      "<class 'bool'>\n"
     ]
    }
   ],
   "source": [
    "l = [1,2,3,4,5,\"Prashant\" , 235.47,True,False]\n",
    "for i  in l:\n",
    "    print(type(i))"
   ]
  },
  {
   "cell_type": "markdown",
   "id": "67269e70-4b39-4ca8-9bd6-7da992400f83",
   "metadata": {},
   "source": [
    "Q5. Using a while loop, verify if the number A is purely divisible by number B and if so then how many\n",
    "times it can be divisible."
   ]
  },
  {
   "cell_type": "code",
   "execution_count": 2,
   "id": "acfac373-dfe2-4cb9-8c3d-93cfe8e2fd11",
   "metadata": {},
   "outputs": [
    {
     "name": "stdin",
     "output_type": "stream",
     "text": [
      "enter the number A =  16\n",
      "enter the number B =  2\n"
     ]
    },
    {
     "name": "stdout",
     "output_type": "stream",
     "text": [
      "1.0 is pruely divisible by 2 and can be divides 4 times\n"
     ]
    }
   ],
   "source": [
    "a = int(input(\"enter the number A = \"))\n",
    "b = int(input(\"enter the number B = \"))\n",
    "count = 0\n",
    "while a%b ==0:\n",
    "    a = a/b\n",
    "    count = count +1\n",
    "\n",
    "if a == 1:\n",
    "    print(f\"{a} is pruely divisible by {b} and can be divides {count } times\") #f-strings are string literals that have an f at the beginning and curly braces containing expressions that will be replaced with their values\n",
    "else:\n",
    "    print(f\"{a} is not pruely divisible by {b}\")\n"
   ]
  },
  {
   "cell_type": "markdown",
   "id": "baec3648-d75f-48d6-a83b-0b0a1e8f3f67",
   "metadata": {},
   "source": [
    "Q6. Create a list containing 25 int type data. Using for loop and if-else condition print if the element is\n",
    "divisible by 3 or not."
   ]
  },
  {
   "cell_type": "code",
   "execution_count": 3,
   "id": "0e9813a1-5ef3-4cd5-a795-af313810a135",
   "metadata": {},
   "outputs": [
    {
     "name": "stdout",
     "output_type": "stream",
     "text": [
      "Element is not divisibe by 3\n",
      "Element is not divisibe by 3\n",
      "Element is divisible by 3\n",
      "Element is not divisibe by 3\n",
      "Element is not divisibe by 3\n",
      "Element is divisible by 3\n",
      "Element is not divisibe by 3\n",
      "Element is not divisibe by 3\n",
      "Element is divisible by 3\n",
      "Element is not divisibe by 3\n",
      "Element is not divisibe by 3\n",
      "Element is divisible by 3\n",
      "Element is not divisibe by 3\n",
      "Element is not divisibe by 3\n",
      "Element is divisible by 3\n",
      "Element is not divisibe by 3\n",
      "Element is not divisibe by 3\n",
      "Element is divisible by 3\n",
      "Element is not divisibe by 3\n",
      "Element is not divisibe by 3\n",
      "Element is divisible by 3\n",
      "Element is not divisibe by 3\n",
      "Element is not divisibe by 3\n",
      "Element is divisible by 3\n",
      "Element is not divisibe by 3\n"
     ]
    }
   ],
   "source": [
    "l = [1,2,3,4,5,6,7,8,9,10,11,12,13,14,15,16,17,18,19,20,21,22,23,24,25]\n",
    "for i in l:\n",
    "    if i%3 == 0:\n",
    "        print(\"Element is divisible by 3\")\n",
    "    else:\n",
    "        print(\"Element is not divisibe by 3\")"
   ]
  },
  {
   "cell_type": "markdown",
   "id": "79adea4f-4921-4627-962b-6beb094043fd",
   "metadata": {},
   "source": [
    "Q7. What do you understand about mutable and immutable data types? Give examples for both showing this property."
   ]
  },
  {
   "cell_type": "markdown",
   "id": "066e00f2-93e5-4b56-aaa9-e2c3166db02b",
   "metadata": {},
   "source": [
    "Mutable = Mutable data types are those whose values can be changed after they are created. \n",
    "This means you can modify the content of a mutable object without creating a new object."
   ]
  },
  {
   "cell_type": "code",
   "execution_count": 8,
   "id": "fe42953c-7c71-4a9d-9829-d6c9611fb7e4",
   "metadata": {},
   "outputs": [
    {
     "data": {
      "text/plain": [
       "5"
      ]
     },
     "execution_count": 8,
     "metadata": {},
     "output_type": "execute_result"
    }
   ],
   "source": [
    "l = [1,2,3,4,5,\"prashant\"]\n",
    "l[4]"
   ]
  },
  {
   "cell_type": "markdown",
   "id": "d6836699-e38f-4ec0-82db-53a85dc6bb14",
   "metadata": {},
   "source": [
    "Immutable = Immutable data types are those whose values cannot be modified once they are created. When you want to change the value of an immutable object, a new object is created with the modified value, while the original object remains unchanged."
   ]
  },
  {
   "cell_type": "code",
   "execution_count": 10,
   "id": "d93d377a-2f19-427d-8eb1-2a0a22c56b54",
   "metadata": {},
   "outputs": [
    {
     "ename": "TypeError",
     "evalue": "'str' object is not callable",
     "output_type": "error",
     "traceback": [
      "\u001b[1;31m---------------------------------------------------------------------------\u001b[0m",
      "\u001b[1;31mTypeError\u001b[0m                                 Traceback (most recent call last)",
      "Cell \u001b[1;32mIn[10], line 2\u001b[0m\n\u001b[0;32m      1\u001b[0m \u001b[38;5;28mstr\u001b[39m \u001b[38;5;241m=\u001b[39m \u001b[38;5;124m\"\u001b[39m\u001b[38;5;124mPrashant\u001b[39m\u001b[38;5;124m\"\u001b[39m\n\u001b[1;32m----> 2\u001b[0m \u001b[38;5;28;43mstr\u001b[39;49m\u001b[43m(\u001b[49m\u001b[38;5;241;43m1\u001b[39;49m\u001b[43m)\u001b[49m\n",
      "\u001b[1;31mTypeError\u001b[0m: 'str' object is not callable"
     ]
    }
   ],
   "source": [
    "str = \"Prashant\"\n",
    "str(1)"
   ]
  },
  {
   "cell_type": "code",
   "execution_count": null,
   "id": "085382c5-53b0-4387-bfda-0bf7cd255eca",
   "metadata": {},
   "outputs": [],
   "source": []
  }
 ],
 "metadata": {
  "kernelspec": {
   "display_name": "Python 3 (ipykernel)",
   "language": "python",
   "name": "python3"
  },
  "language_info": {
   "codemirror_mode": {
    "name": "ipython",
    "version": 3
   },
   "file_extension": ".py",
   "mimetype": "text/x-python",
   "name": "python",
   "nbconvert_exporter": "python",
   "pygments_lexer": "ipython3",
   "version": "3.11.4"
  }
 },
 "nbformat": 4,
 "nbformat_minor": 5
}
